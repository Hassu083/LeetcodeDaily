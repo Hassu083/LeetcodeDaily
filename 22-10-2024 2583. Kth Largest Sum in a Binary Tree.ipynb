{
 "cells": [
  {
   "cell_type": "markdown",
   "metadata": {},
   "source": [
    "## 2583. Kth Largest Sum in a Binary Tree"
   ]
  },
  {
   "cell_type": "markdown",
   "metadata": {},
   "source": [
    "### Description:"
   ]
  },
  {
   "cell_type": "markdown",
   "metadata": {},
   "source": [
    "You are given the root of a binary tree and a positive integer k.\n",
    "\n",
    "The level sum in the tree is the sum of the values of the nodes that are on the same level.\n",
    "\n",
    "Return the kth largest level sum in the tree (not necessarily distinct). If there are fewer than k levels in the tree, return -1.\n",
    "\n",
    "Note that two nodes are on the same level if they have the same distance from the root.\n",
    "\n",
    " "
   ]
  },
  {
   "cell_type": "markdown",
   "metadata": {},
   "source": [
    "### Examples:"
   ]
  },
  {
   "cell_type": "markdown",
   "metadata": {},
   "source": []
  }
 ],
 "metadata": {
  "language_info": {
   "name": "python"
  }
 },
 "nbformat": 4,
 "nbformat_minor": 2
}
