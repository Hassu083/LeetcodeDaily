{
 "cells": [
  {
   "cell_type": "markdown",
   "metadata": {},
   "source": [
    "## 1106. Parsing A Boolean Expression"
   ]
  },
  {
   "cell_type": "markdown",
   "metadata": {},
   "source": [
    "A boolean expression is an expression that evaluates to either true or false. It can be in one of the following shapes:\n",
    "\n",
    "'t' that evaluates to true.\n",
    "'f' that evaluates to false.\n",
    "'!(subExpr)' that evaluates to the logical NOT of the inner expression subExpr.\n",
    "'&(subExpr1, subExpr2, ..., subExprn)' that evaluates to the logical AND of the inner expressions subExpr1, subExpr2, ..., subExprn where n >= 1.\n",
    "'|(subExpr1, subExpr2, ..., subExprn)' that evaluates to the logical OR of the inner expressions subExpr1, subExpr2, ..., subExprn where n >= 1.\n",
    "Given a string expression that represents a boolean expression, return the evaluation of that expression.\n",
    "\n",
    "It is guaranteed that the given expression is valid and follows the given rules.\n",
    "\n",
    " "
   ]
  },
  {
   "cell_type": "markdown",
   "metadata": {},
   "source": [
    "### Example 1:\n",
    "\n",
    "Input: expression = \"&(|(f))\"\n",
    "Output: false\n",
    "Explanation: \n",
    "First, evaluate |(f) --> f. The expression is now \"&(f)\".\n",
    "Then, evaluate &(f) --> f. The expression is now \"f\".\n",
    "Finally, return false.\n"
   ]
  },
  {
   "cell_type": "markdown",
   "metadata": {},
   "source": [
    "### Example 2:\n",
    "\n",
    "Input: expression = \"|(f,f,f,t)\"\n",
    "Output: true\n",
    "Explanation: The evaluation of (false OR false OR false OR true) is true."
   ]
  },
  {
   "cell_type": "markdown",
   "metadata": {},
   "source": [
    "### Example 3:\n",
    "\n",
    "Input: expression = \"!(&(f,t))\"\n",
    "Output: true\n",
    "Explanation: \n",
    "First, evaluate &(f,t) --> (false AND true) --> false --> f. The expression is now \"!(f)\".\n",
    "Then, evaluate !(f) --> NOT false --> true. We return true."
   ]
  },
  {
   "attachments": {
    "image.png": {
     "image/png": "[encoded data removed]"
    }
   },
   "cell_type": "markdown",
   "metadata": {},
   "source": [
    "![image.png](attachment:image.png)"
   ]
  },
  {
   "cell_type": "markdown",
   "metadata": {},
   "source": [
    "### Solution:"
   ]
  },
  {
   "cell_type": "markdown",
   "metadata": {},
   "source": []
  },
  {
   "cell_type": "code",
   "execution_count": 1,
   "metadata": {},
   "outputs": [],
   "source": [
    "class Solution:\n",
    "    def parseBoolExpr(self, expression: str) -> bool:\n",
    "        # Repeatedly simplify the expression by evaluating subexpressions\n",
    "        while len(expression) > 1:\n",
    "            start = max(\n",
    "                expression.rfind(\"!\"),\n",
    "                expression.rfind(\"&\"),\n",
    "                expression.rfind(\"|\"),\n",
    "            )\n",
    "            end = expression.find(\")\", start)\n",
    "            sub_expr = expression[start : end + 1]\n",
    "            result = self._evaluate_sub_expr(sub_expr)\n",
    "            expression = expression[:start] + result + expression[end + 1 :]\n",
    "\n",
    "        return expression == \"t\"\n",
    "\n",
    "    def _evaluate_sub_expr(self, sub_expr: str) -> str:\n",
    "        # Extract the operator and the enclosed values\n",
    "        op = sub_expr[0]\n",
    "        values = sub_expr[2:-1]\n",
    "\n",
    "        # Apply logical operations based on the operator\n",
    "        if op == \"!\":\n",
    "            return \"f\" if values == \"t\" else \"t\"\n",
    "        if op == \"&\":\n",
    "            return \"f\" if \"f\" in values else \"t\"\n",
    "        if op == \"|\":\n",
    "            return \"t\" if \"t\" in values else \"f\"\n",
    "\n",
    "        return \"f\"  # This point should never be reached"
   ]
  },
  {
   "cell_type": "code",
   "execution_count": null,
   "metadata": {},
   "outputs": [],
   "source": []
  }
 ],
 "metadata": {
  "kernelspec": {
   "display_name": "Python 3",
   "language": "python",
   "name": "python3"
  },
  "language_info": {
   "codemirror_mode": {
    "name": "ipython",
    "version": 3
   },
   "file_extension": ".py",
   "mimetype": "text/x-python",
   "name": "python",
   "nbconvert_exporter": "python",
   "pygments_lexer": "ipython3",
   "version": "3.12.5"
  }
 },
 "nbformat": 4,
 "nbformat_minor": 2
}
