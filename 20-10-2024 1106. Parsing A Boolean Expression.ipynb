{
 "cells": [
  {
   "cell_type": "markdown",
   "metadata": {},
   "source": [
    "## 1106. Parsing A Boolean Expression"
   ]
  },
  {
   "cell_type": "markdown",
   "metadata": {},
   "source": [
    "A boolean expression is an expression that evaluates to either true or false. It can be in one of the following shapes:\n",
    "\n",
    "'t' that evaluates to true.\n",
    "'f' that evaluates to false.\n",
    "'!(subExpr)' that evaluates to the logical NOT of the inner expression subExpr.\n",
    "'&(subExpr1, subExpr2, ..., subExprn)' that evaluates to the logical AND of the inner expressions subExpr1, subExpr2, ..., subExprn where n >= 1.\n",
    "'|(subExpr1, subExpr2, ..., subExprn)' that evaluates to the logical OR of the inner expressions subExpr1, subExpr2, ..., subExprn where n >= 1.\n",
    "Given a string expression that represents a boolean expression, return the evaluation of that expression.\n",
    "\n",
    "It is guaranteed that the given expression is valid and follows the given rules.\n",
    "\n",
    " "
   ]
  },
  {
   "cell_type": "markdown",
   "metadata": {},
   "source": [
    "### Example 1:\n",
    "\n",
    "Input: expression = \"&(|(f))\"\n",
    "Output: false\n",
    "Explanation: \n",
    "First, evaluate |(f) --> f. The expression is now \"&(f)\".\n",
    "Then, evaluate &(f) --> f. The expression is now \"f\".\n",
    "Finally, return false.\n"
   ]
  },
  {
   "cell_type": "markdown",
   "metadata": {},
   "source": [
    "### Example 2:\n",
    "\n",
    "Input: expression = \"|(f,f,f,t)\"\n",
    "Output: true\n",
    "Explanation: The evaluation of (false OR false OR false OR true) is true."
   ]
  },
  {
   "cell_type": "markdown",
   "metadata": {},
   "source": []
  }
 ],
 "metadata": {
  "language_info": {
   "name": "python"
  }
 },
 "nbformat": 4,
 "nbformat_minor": 2
}
