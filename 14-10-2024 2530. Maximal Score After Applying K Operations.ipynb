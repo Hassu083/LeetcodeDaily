{
 "cells": [
  {
   "cell_type": "markdown",
   "metadata": {},
   "source": [
    "## 2530. Maximal Score After Applying K Operations"
   ]
  },
  {
   "cell_type": "markdown",
   "metadata": {},
   "source": [
    "You are given a 0-indexed integer array nums and an integer k. You have a starting score of 0.\n",
    "\n",
    "In one operation:\n",
    "\n",
    "choose an index i such that 0 <= i < nums.length,\n",
    "increase your score by nums[i], and\n",
    "replace nums[i] with ceil(nums[i] / 3).\n",
    "Return the maximum possible score you can attain after applying exactly k operations.\n",
    "\n",
    "The ceiling function ceil(val) is the least integer greater than or equal to val."
   ]
  },
  {
   "cell_type": "markdown",
   "metadata": {},
   "source": []
  }
 ],
 "metadata": {
  "language_info": {
   "name": "python"
  }
 },
 "nbformat": 4,
 "nbformat_minor": 2
}
