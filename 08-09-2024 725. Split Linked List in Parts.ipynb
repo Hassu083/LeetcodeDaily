{
 "cells": [
  {
   "cell_type": "code",
   "execution_count": null,
   "metadata": {},
   "outputs": [],
   "source": []
  },
  {
   "cell_type": "markdown",
   "metadata": {},
   "source": [
    "### 725. Split Linked List in Parts"
   ]
  },
  {
   "cell_type": "markdown",
   "metadata": {},
   "source": [
    "#### Description"
   ]
  },
  {
   "cell_type": "markdown",
   "metadata": {},
   "source": [
    "Given the head of a singly linked list and an integer k, split the linked list into k consecutive linked list parts.\n",
    "\n",
    "The length of each part should be as equal as possible: no two parts should have a size differing by more than one. This may lead to some parts being null.\n",
    "\n",
    "The parts should be in the order of occurrence in the input list, and parts occurring earlier should always have a size greater than or equal to parts occurring later.\n",
    "\n",
    "Return an array of the k parts."
   ]
  },
  {
   "cell_type": "markdown",
   "metadata": {},
   "source": []
  }
 ],
 "metadata": {
  "language_info": {
   "name": "python"
  }
 },
 "nbformat": 4,
 "nbformat_minor": 2
}
