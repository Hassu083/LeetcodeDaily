{
 "cells": [
  {
   "cell_type": "markdown",
   "metadata": {},
   "source": [
    "## 2501. Longest Square Streak in an Array"
   ]
  },
  {
   "cell_type": "markdown",
   "metadata": {},
   "source": [
    "You are given an integer array nums. A subsequence of nums is called a square streak if:\n",
    "\n",
    "The length of the subsequence is at least 2, and\n",
    "after sorting the subsequence, each element (except the first element) is the square of the previous number.\n",
    "Return the length of the longest square streak in nums, or return -1 if there is no square streak.\n",
    "\n",
    "A subsequence is an array that can be derived from another array by deleting some or no elements without changing the order of the remaining elements."
   ]
  },
  {
   "cell_type": "markdown",
   "metadata": {},
   "source": []
  }
 ],
 "metadata": {
  "language_info": {
   "name": "python"
  }
 },
 "nbformat": 4,
 "nbformat_minor": 2
}
