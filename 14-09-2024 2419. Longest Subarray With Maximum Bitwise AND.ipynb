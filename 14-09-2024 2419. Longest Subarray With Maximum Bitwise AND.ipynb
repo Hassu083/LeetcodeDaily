{
 "cells": [
  {
   "cell_type": "code",
   "execution_count": null,
   "metadata": {},
   "outputs": [],
   "source": []
  },
  {
   "cell_type": "markdown",
   "metadata": {},
   "source": [
    "## 2419. Longest Subarray With Maximum Bitwise AND"
   ]
  },
  {
   "cell_type": "markdown",
   "metadata": {},
   "source": [
    "You are given an integer array nums of size n.\n",
    "\n",
    "Consider a non-empty subarray from nums that has the maximum possible bitwise AND.\n",
    "\n",
    "In other words, let k be the maximum value of the bitwise AND of any subarray of nums. Then, only subarrays with a bitwise AND equal to k should be considered.\n",
    "Return the length of the longest such subarray.\n",
    "\n",
    "The bitwise AND of an array is the bitwise AND of all the numbers in it.\n",
    "\n",
    "A subarray is a contiguous sequence of elements within an array.\n",
    "\n",
    " \n",
    "\n"
   ]
  },
  {
   "cell_type": "markdown",
   "metadata": {},
   "source": []
  }
 ],
 "metadata": {
  "language_info": {
   "name": "python"
  }
 },
 "nbformat": 4,
 "nbformat_minor": 2
}
