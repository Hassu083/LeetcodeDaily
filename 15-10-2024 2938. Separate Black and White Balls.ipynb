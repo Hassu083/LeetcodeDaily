{
 "cells": [
  {
   "cell_type": "markdown",
   "metadata": {},
   "source": [
    "## 2938. Separate Black and White Balls"
   ]
  },
  {
   "cell_type": "markdown",
   "metadata": {},
   "source": [
    "There are n balls on a table, each ball has a color black or white.\n",
    "\n",
    "You are given a 0-indexed binary string s of length n, where 1 and 0 represent black and white balls, respectively.\n",
    "\n",
    "In each step, you can choose two adjacent balls and swap them.\n",
    "\n",
    "Return the minimum number of steps to group all the black balls to the right and all the white balls to the left."
   ]
  },
  {
   "cell_type": "markdown",
   "metadata": {},
   "source": []
  },
  {
   "cell_type": "markdown",
   "metadata": {},
   "source": []
  }
 ],
 "metadata": {
  "language_info": {
   "name": "python"
  }
 },
 "nbformat": 4,
 "nbformat_minor": 2
}
